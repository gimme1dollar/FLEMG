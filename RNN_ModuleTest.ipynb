{
 "cells": [
  {
   "cell_type": "code",
   "execution_count": 4,
   "metadata": {
    "collapsed": false
   },
   "outputs": [
    {
     "name": "stderr",
     "output_type": "stream",
     "text": [
      "/usr/local/lib/python3.6/dist-packages/h5py/__init__.py:36: FutureWarning: Conversion of the second argument of issubdtype from `float` to `np.floating` is deprecated. In future, it will be treated as `np.float64 == np.dtype(float).type`.\n",
      "  from ._conv import register_converters as _register_converters\n"
     ]
    }
   ],
   "source": [
    "import tensorflow as tf\n",
    "import numpy as np\n",
    "import matplotlib.pyplot as plt\n",
    "import os\n",
    "import time\n",
    "#import serial"
   ]
  },
  {
   "cell_type": "code",
   "execution_count": 5,
   "metadata": {
    "collapsed": false
   },
   "outputs": [
   ],
   "source": [
    "class FLEMG_Data_Collector:\n",
    "\tdef __init__(self, flex_size = 6, emg_size = 8):\n",
    "\t\tself.data = []\n",
    "\t\tself.count = 0\n",
    "\n",
    "\t\tself.flex_data_size = flex_size\n",
    "\t\tself.flex_port = None\n",
    "\t\tself.fleg_port_flag = False\n",
    "\n",
    "\t\tself.emg_data_size = emg_size\n",
    "\t\tself.emg_port = None\n",
    "\t\tself.emg_port_flag = False\n",
    "\n",
    "\tdef open_port(self, flex_port_name, emg_port_name):\n",
    "    # Instantiate and Open Serial Ports\n",
    "\t\tself.flex_port = serial.Serial(flex_port_name, 115200, timeout=2)\n",
    "\t\tself.emg_port = serial.Serial(emg_port_name, 19200, timeout=2)\n",
    "\n",
    "    # Set member values related to the ports\n",
    "\t\tif self.flex_port.is_open:\n",
    "\t\t\tself_flex_port_flag = True\n",
    "\t\t\tprint('FLEX serial port open')\n",
    "\t\telse:\n",
    "\t\t\tprint('FLEX serial not open')\n",
    "\n",
    "\t\tif self.emg_port.is_open:\n",
    "\t\t\tself_emg_port_flag = True\n",
    "\t\t\tprint('EMG serial port open')\n",
    "\t\telse:\n",
    "\t\t\tprint('EMG serial not open')\n",
    "\n",
    "\tdef close_port(self):\n",
    "\t\tif self.flex_port.is_open:\n",
    "\t\t\tself.flex_port.close()\n",
    "\t\t\tself.flex_port_flag = False\n",
    "\t\t\tprint('EMG serial port close')\n",
    "\n",
    "\t\tif self.emg_port.is_open:\n",
    "\t\t\tself.emg_port.close()\n",
    "\t\t\tself.emg_port_flag = False\n",
    "\t\t\tprint('FLEX serial port close')\n",
    "\n",
    "\tdef receive_data(self):\n",
    "\t\tvalidation = False\n",
    "\t\tflex_tmp = []\n",
    "\t\temg_tmp = []\n",
    "\n",
    "\t\t# Receive a data through port\n",
    "\t\t## FLEX data\n",
    "\t\tif self.flex_port_flag and self.flex_port.inWaiting():\n",
    "\t\t\tinput_flex = self.flex_port.read(self.flex_data_size)\n",
    "\t\t\tdecoded_flex = input_flex.decode('ascii')\n",
    "\t\t## EMG data\n",
    "\t\tif self.emg_port_flag and self.emg_port.inWaiting():\n",
    "\t\t\tinput_emg=self.emg_port.read(self.emg_data_size)\n",
    "\t\t\tdecoded_emg=input_emg.decode('ascii')\n",
    "\n",
    "\t\tfor i in range(len(decoded_flex)):\n",
    "\t\t\tif decoded_flex[i]=='n'and stack==4 :\n",
    "\t\t\t\tstack=0\n",
    "\t\t\t\tvalidation=True\n",
    "\t\t\telif decoded_flex[i]=='n' and stack!=4:\n",
    "\t\t\t\tvalidation=False\n",
    "\t\t\t\tstack=0\n",
    "\t\t\t\tprint('FLEX data receiving error')\n",
    "\t\t\telif decoded_flex[i]==',':\n",
    "\t\t\t\tstack += 1\n",
    "\t\t\telse:\n",
    "\t\t\t\tflex_tmp.append(decoded_flex[i])\n",
    "\n",
    "\t\t##check validation of input emg data and get a line of sensor data\n",
    "\t\tfor i in range(len(decoded_emg)):\n",
    "\t\t\tif decoded_emg[i]=='[':\n",
    "\t\t\t\tstart_index=i;\n",
    "\t\t\t\tstack = 0\n",
    "\t\t\telif decoded_emg[i]==']' and stack==7 :\n",
    "\t\t\t\tend_index=i;\n",
    "\t\t\t\tstack = 0\n",
    "\t\t\t\tvalidation=True\n",
    "\t\t\telif decoded_emg[i]==']' and stack!=7 :\n",
    "\t\t\t\tvalidation=False\n",
    "\t\t\t\tstack = 0\n",
    "\t\t\t\tprint('EMG data receiving error')\n",
    "\t\t\telif decoded_emg[i]==',':\n",
    "\t\t\t\tstack += 1\n",
    "\t\t\telse:\n",
    "\t\t\t\temg_tmp.append(decoded_emg[i])\n",
    "\n",
    "\t\t# Increment self.count\n",
    "\t\tif validation is True:\n",
    "\t\t\tself.data.append([count] + flex_tmp + emg_tmp)\n",
    "\t\t\tself.count = self.count + 1\n",
    "\n",
    "\tdef print_data(self, count = None):\n",
    "\t\tif count is not None:\n",
    "\t\t\tprint(self.data[-count:])\n",
    "\t\telse:\n",
    "\t\t\tprint(self.data)\n",
    "\n",
    "\tdef save_data_set(self, location='default.csv', delimiter=',', format ='%d'):\n",
    "\t\tnp.savetxt(location, self.data, delimiter=delimiter, fmt=format)\n",
    "\t\tprint(\"Save FLEMG dataset to \" + str(location))\n",
    "\n",
    "\tdef load_data_set(self, location='default', delimiter=','):\n",
    "\t\tself.data = np.loadtxt(location, delimiter = delimiter)\n",
    "\t\tself.data_count = len(self.data)\n",
    "\t\tprint(\"Load FLEMG dataset from \" + str(location))"
   ]
  },
  {
   "cell_type": "code",
   "execution_count": 87,
   "metadata": {
    "collapsed": false
   },
   "outputs": [
   ],
   "source": [
    "class Preprocessor:\n",
    "\tdef __init__(self, raw = [], data_dim = 8, label_dim = 6, index_dim = 1, seq_length = 3):\n",
    "\t\tself.raw = raw\n",
    "        \n",
    "\t\tself.data = []\n",
    "\t\tself.label = []\n",
    "\t\tself.count = 0\n",
    "\t\tself.index = []\n",
    "        \n",
    "\t\tself.data_dim = data_dim\n",
    "\t\tself.label_dim = label_dim\n",
    "\t\tself.index_dim = index_dim\n",
    "\t\tself.seq_length = seq_length\n",
    "\n",
    "\tdef load(self, location='default', delimiter = ','):\n",
    "\t\tself.raw = np.loadtxt(location, delimiter = delimiter)\n",
    "        \n",
    "\tdef scale(self, emg_max = 1024, flex_max = 128, chunk = 30):\n",
    "\t\tw_e=emg_max/chunk\n",
    "\t\tw_f=flex_max/chunk\n",
    "\t\te_f=emg_max/flex_max\n",
    "\n",
    "\t\tdenominator = [1/w_e, e_f,e_f,e_f,e_f,e_f,e_f,e_f,e_f,chunk,chunk,chunk,chunk,chunk,chunk]\n",
    "\t\tself.raw = np.round(self.raw/denominator)/(w_e)\n",
    "        \n",
    "\tdef preprocess(self):\n",
    "\t\tif (self.seq_length <= len(self.data)):\n",
    "\t\t\tprint(\"Error : seqence length \" + self.seq_length + \" is shorter than data count \" + len(self.data))\n",
    "\t\t\treturn\n",
    "            \n",
    "\t\tdataX = []\n",
    "\t\tdataY = []\n",
    "\t\tdataT = []\n",
    "\t\tfor i in range(len(self.raw) - self.seq_length + 1):\n",
    "\t\t\t_x = self.raw[i:i+self.seq_length, self.index_dim:]\n",
    "\t\t\t_y = self.raw[i+self.seq_length-1, self.index_dim+self.data_dim:]  # Next close price\n",
    "\t\t\t_t = self.raw[i:i+self.seq_length, :self.index_dim]\n",
    "\t\t\tdataX.append(_x)\n",
    "\t\t\tdataY.append(_y)\n",
    "\t\t\tdataT.append(_t)\n",
    "\t\tself.data = np.array(dataX)\n",
    "\t\tself.label = np.array(dataY)\n",
    "\t\tself.count = len(self.data)\n",
    "\t\tself.index = np.array(dataT)"
   ]
  },
  {
   "cell_type": "code",
   "execution_count": 71,
   "metadata": {
    "collapsed": false
   },
   "outputs": [
   ],
   "source": [
    "class LSTM_Network:\n",
    "\tdef __init__(self, data_processor = Preprocessor(), hidden_dim = 30, learning_rate = 0.01, LSTM_stack = 2):\n",
    "\t\ttf.set_random_seed(777)  # reproducibility\n",
    "\t\tself.data_processor = data_processor\n",
    "\t\tself.seq_length = data_processor.seq_length\n",
    "\t\tself.data_dim = data_processor.data_dim\n",
    "\t\tself.output_dim = data_processor.label_dim\n",
    "\t\tself.hidden_dim = hidden_dim\n",
    "\t\tself.learning_rate = learning_rate\n",
    "\t\tself.LSTM_stack = LSTM_stack\n",
    "        \n",
    "\t\tself.graph = tf.Graph()\n",
    "\t\tself.sess = tf.Session()\n",
    "        \n",
    "\t\tself.flag_kernel_opened = False\n",
    "\t\tself.flag_placeholder = False\n",
    "\n",
    "\t# build a LSTM network\n",
    "\tdef build_cell(self):\n",
    "\t\tcell = tf.contrib.rnn.BasicLSTMCell(num_units = self.hidden_dim, state_is_tuple=True)\n",
    "\t\treturn cell\n",
    "\n",
    "\tdef construct_placeholders(self):\n",
    "\t\tif (self.flag_kernel_opened) :\n",
    "\t\t\tprint(\"reset kernel\")\n",
    "\t\t\ttf.reset_default_graph()\n",
    "\t\t# Input Place holders\n",
    "\t\tself.X = tf.placeholder(tf.float32, [None, self.seq_length, self.data_dim+self.output_dim])\n",
    "\t\tself.Y = tf.placeholder(tf.float32, [None, self.output_dim])\n",
    "\n",
    "\t\t# Build a LSTM network\n",
    "\t\tmulti_cells = tf.contrib.rnn.MultiRNNCell([self.build_cell() for _ in range(self.LSTM_stack)], state_is_tuple=True)\n",
    "\t\toutputs, _states=tf.nn.dynamic_rnn(multi_cells, self.X, dtype=tf.float32)\n",
    "\t\tself.Y_pred = tf.contrib.layers.fully_connected(outputs[:, -1], self.output_dim)\n",
    "\n",
    "\t\t# Cost & Loss & Optimizer\n",
    "\t\tloss = tf.reduce_sum(tf.square(self.Y_pred - self.Y))  # sum of the squares\n",
    "\t\toptimizer = tf.train.AdamOptimizer(self.learning_rate)\n",
    "\t\ttrain = optimizer.minimize(loss)\n",
    "\n",
    "\t\t# RMSE\n",
    "\t\tself.targets = tf.placeholder(tf.float32, [None, self.output_dim])\n",
    "\t\tself.predictions = tf.placeholder(tf.float32, [None, self.output_dim])\n",
    "\t\tself.rmse = tf.sqrt(tf.reduce_mean(tf.square(self.targets - self.predictions)))\n",
    "        \n",
    "\t\tself.flag_kernel_opened = True\n",
    "\t\tself.flag_placeholder = True\n",
    "\n",
    "\tdef restore_network(self, location='checkpoints'):\n",
    "\t\tif (not self.flag_placeholder) :\n",
    "\t\t\tself.construct_placeholders()\n",
    "\t\tself.saver = tf.train.Saver()\n",
    "\t\tself.saver.restore(self.sess, tf.train.latest_checkpoint(location))\n",
    "\n",
    "\tdef infer(self, data_processor = None, default_ = 0.39):\n",
    "\t\tif data_processor is None:\n",
    "\t\t\tdata_processor = self.data_processor\n",
    "\t\tprediction = []\n",
    "\n",
    "\t\t# Test step\n",
    "\t\ttestX = data_processor.data\n",
    "\t\tfor idx in range(len(testX)) :\n",
    "\t\t\tif idx == 0:\n",
    "\t\t\t\tfor j in range(data_processor.label_dim):\n",
    "\t\t\t\t\tfor l in range(data_processor.seq_length):\n",
    "\t\t\t\t\t\ttestX[idx, l, j + (data_processor.index_dim + data_processor.data_dim - 1)] = default_\n",
    "\t\t\t\ttest_predict = self.sess.run(self.Y_pred, feed_dict={self.X: [testX[idx]]})\n",
    "\t\t\telif idx < data_processor.seq_length:\n",
    "\t\t\t\tfor j in range(data_processor.label_dim):\n",
    "\t\t\t\t\tfor l in range(data_processor.seq_length):\n",
    "\t\t\t\t\t\tif data_processor.seq_length == l:\n",
    "\t\t\t\t\t\t\ttestX[idx, l, j + (data_processor.index_dim + data_processor.data_dim - 1)] = test_predict[0][j]\n",
    "\t\t\t\t\t\telif idx < l:\n",
    "\t\t\t\t\t\t\ttestX[idx, l, j + (data_processor.index_dim + data_processor.data_dim - 1)] = testX[idx-(data_processor.seq_length-l),data_processor.seq_length-1,j+data_processor.data_dim]\n",
    "\t\t\t\t\t\telse:\n",
    "\t\t\t\t\t\t\ttestX[idx, l, j + (data_processor.index_dim + data_processor.data_dim - 1)] = default_\n",
    "\t\t\t\ttest_predict = self.sess.run(self.Y_pred, feed_dict={self.X: [testX[idx]]})\n",
    "\t\t\telse: \n",
    "\t\t\t\tfor j in range(data_processor.label_dim):\n",
    "\t\t\t\t\tfor l in range(data_processor.seq_length):\n",
    "\t\t\t\t\t\tif data_processor.seq_length == l:\n",
    "\t\t\t\t\t\t\ttestX[idx, l, j + (data_processor.index_dim + data_processor.data_dim - 1)] = test_predict[0][j]\n",
    "\t\t\t\t\t\telif idx < l:\n",
    "\t\t\t\t\t\t\ttestX[idx, l, j + (data_processor.index_dim + data_processor.data_dim - 1)] = testX[idx-(data_processor.seq_length-l),data_processor.seq_length-1,j+data_processor.data_dim]\n",
    "\t\t\t\ttest_predict = self.sess.run(self.Y_pred, feed_dict= {self.X: [testX[idx]]})\n",
    "    \n",
    "\t\t\tprediction.append(test_predict[0])\n",
    "        \n",
    "        # Calculate RMSE\n",
    "\t\trmse_val = self.sess.run(self.rmse, feed_dict={self.targets: data_processor.label, self.predictions: prediction})\n",
    "\t\tprint(\"RMSE: {}\".format(rmse_val))\n",
    "\t\treturn prediction\n",
    "\n",
    "\tdef close(self):\n",
    "\t\ttf.reset_default_graph()\n",
    "\t\tself.sess.close()"
   ]
  },
  {
   "cell_type": "markdown",
   "metadata": {
    "collapsed": false
   },
   "source": [
    "# Example"
   ]
  },
  {
   "cell_type": "code",
   "execution_count": 90,
   "metadata": {
    "collapsed": false
   },
   "outputs": [
    {
     "name": "stdout",
     "output_type": "stream",
     "text": [
      "Load FLEMG dataset from ./data/full.csv\n",
      "3198\n",
      "(3194, 5, 14)\n",
      "(3194, 6)\n",
      "(3194, 5, 1)\n"
     ]
    }
   ],
   "source": [
    "data_collector = FLEMG_Data_Collector()\n",
    "data_collector.load_data_set('./data/full.csv')\n",
    "#data_collector.save_data_set(format='%d')\n",
    "print( len(data_collector.data) )\n",
    "\n",
    "trainer = Preprocessor(data_collector.data, seq_length = 5)\n",
    "trainer.scale()\n",
    "trainer.preprocess()\n",
    "\n",
    "print( trainer.data.shape )\n",
    "print( trainer.label.shape )\n",
    "print( trainer.index.shape )"
   ]
  },
  {
   "cell_type": "code",
   "execution_count": 91,
   "metadata": {
    "collapsed": false,
    "scrolled": true
   },
   "outputs": [
    {
     "name": "stdout",
     "output_type": "stream",
     "text": [
      "INFO:tensorflow:Restoring parameters from checkpoints/rnn.ckpt\n"
     ]
    },
    {
     "name": "stdout",
     "output_type": "stream",
     "text": [
      "(3194, 5, 14)\n",
      "(3194, 6)\n",
      "(3194, 5, 1)\n"
     ]
    },
    {
     "name": "stdout",
     "output_type": "stream",
     "text": [
      "RMSE: 0.15342622995376587\n"
     ]
    }
   ],
   "source": [
    "tf.reset_default_graph()\n",
    "\n",
    "Network = LSTM_Network(trainer)\n",
    "Network.restore_network()\n",
    "print( trainer.data.shape )\n",
    "print( trainer.label.shape )\n",
    "print( trainer.index.shape )\n",
    "prediction = Network.infer()\n",
    "\n",
    "Network.close()"
   ]
  },
  {
   "cell_type": "code",
   "execution_count": 81,
   "metadata": {
    "collapsed": false
   },
   "outputs": [
    {
     "name": "stdout",
     "output_type": "stream",
     "text": [
      "INFO:tensorflow:Restoring parameters from checkpoints/rnn.ckpt\n"
     ]
    },
    {
     "name": "stdout",
     "output_type": "stream",
     "text": [
      "(1, 6)\n",
      "RMSE: 13.567753791809082\n"
     ]
    }
   ],
   "source": [
    "infer_target = Preprocessor(data_collector.data[ -5 : ], seq_length = 5)\n",
    "\n",
    "Network = LSTM_Network(infer_target)\n",
    "Network.restore_network()\n",
    "infer_target.scale()\n",
    "infer_target.preprocess()\n",
    "print( infer_target.label.shape )\n",
    "prediction = Network.infer(infer_target)\n",
    "Network.close()"
   ]
  },
  {
   "cell_type": "code",
   "execution_count": 89,
   "metadata": {
    "collapsed": false
   },
   "outputs": [
    {
     "name": "stdout",
     "output_type": "stream",
     "text": [
      "INFO:tensorflow:Restoring parameters from checkpoints/rnn.ckpt\n"
     ]
    },
    {
     "name": "stdout",
     "output_type": "stream",
     "text": [
      "(955, 6)\n",
      "[0.38085938 0.41015625 0.41015625 0.38085938 0.41015625 0.41015625]\n"
     ]
    },
    {
     "name": "stdout",
     "output_type": "stream",
     "text": [
      "RMSE: 0.1484842598438263\n"
     ]
    }
   ],
   "source": [
    "infer_target = Preprocessor(data_collector.data[ -int((len(data_collector.data) * 0.3)) : ], seq_length = 5)\n",
    "\n",
    "Network = LSTM_Network(infer_target)\n",
    "Network.restore_network()\n",
    "infer_target.scale()\n",
    "infer_target.preprocess()\n",
    "print( infer_target.label.shape )\n",
    "print( infer_target.label[450])\n",
    "prediction = Network.infer(infer_target)\n",
    "Network.close()"
   ]
  },
  {
   "cell_type": "code",
   "execution_count": 83,
   "metadata": {
    "collapsed": false
   },
   "outputs": [
    {
     "ename": "NameError",
     "evalue": "name 'train' is not defined",
     "output_type": "error",
     "traceback": [
      "\u001b[0;31m---------------------------------------------------------------------------\u001b[0m",
      "\u001b[0;31mNameError\u001b[0m                                 Traceback (most recent call last)",
      "\u001b[0;32m<ipython-input-83-48d068e05326>\u001b[0m in \u001b[0;36m<module>\u001b[0;34m()\u001b[0m\n\u001b[1;32m      5\u001b[0m \u001b[0mplt\u001b[0m\u001b[0;34m.\u001b[0m\u001b[0msubplot\u001b[0m\u001b[0;34m(\u001b[0m\u001b[0;36m2\u001b[0m\u001b[0;34m,\u001b[0m\u001b[0;36m3\u001b[0m\u001b[0;34m,\u001b[0m\u001b[0;36m1\u001b[0m\u001b[0;34m)\u001b[0m\u001b[0;34m\u001b[0m\u001b[0;34m\u001b[0m\u001b[0m\n\u001b[1;32m      6\u001b[0m \u001b[0mplt\u001b[0m\u001b[0;34m.\u001b[0m\u001b[0mylim\u001b[0m\u001b[0;34m(\u001b[0m\u001b[0;34m[\u001b[0m\u001b[0;36m0\u001b[0m\u001b[0;34m,\u001b[0m\u001b[0;36m0.5\u001b[0m\u001b[0;34m]\u001b[0m\u001b[0;34m)\u001b[0m\u001b[0;34m\u001b[0m\u001b[0;34m\u001b[0m\u001b[0m\n\u001b[0;32m----> 7\u001b[0;31m \u001b[0mprint\u001b[0m\u001b[0;34m(\u001b[0m\u001b[0mtrain\u001b[0m\u001b[0;34m.\u001b[0m\u001b[0mindex\u001b[0m\u001b[0;34m[\u001b[0m\u001b[0;34m:\u001b[0m\u001b[0;34m,\u001b[0m\u001b[0;34m:\u001b[0m\u001b[0;34m,\u001b[0m\u001b[0;36m0\u001b[0m\u001b[0;34m]\u001b[0m\u001b[0;34m.\u001b[0m\u001b[0mshape\u001b[0m\u001b[0;34m)\u001b[0m\u001b[0;34m\u001b[0m\u001b[0;34m\u001b[0m\u001b[0m\n\u001b[0m\u001b[1;32m      8\u001b[0m \u001b[0mprint\u001b[0m\u001b[0;34m(\u001b[0m\u001b[0mprediction\u001b[0m\u001b[0;34m[\u001b[0m\u001b[0;34m:\u001b[0m\u001b[0;34m,\u001b[0m\u001b[0;36m0\u001b[0m\u001b[0;34m]\u001b[0m\u001b[0;34m.\u001b[0m\u001b[0mshape\u001b[0m\u001b[0;34m)\u001b[0m\u001b[0;34m\u001b[0m\u001b[0;34m\u001b[0m\u001b[0m\n\u001b[1;32m      9\u001b[0m \u001b[0mprint\u001b[0m\u001b[0;34m(\u001b[0m\u001b[0mtrainer\u001b[0m\u001b[0;34m.\u001b[0m\u001b[0mlabel\u001b[0m\u001b[0;34m[\u001b[0m\u001b[0;34m:\u001b[0m\u001b[0;34m,\u001b[0m\u001b[0;36m0\u001b[0m\u001b[0;34m]\u001b[0m\u001b[0;34m.\u001b[0m\u001b[0mshape\u001b[0m\u001b[0;34m)\u001b[0m\u001b[0;34m\u001b[0m\u001b[0;34m\u001b[0m\u001b[0m\n",
      "\u001b[0;31mNameError\u001b[0m: name 'train' is not defined"
     ]
    },
    {
     "data": {
      "text/plain": [
       "<Figure size 432x288 with 0 Axes>"
      ]
     },
     "execution_count": 83,
     "metadata": {
     },
     "output_type": "execute_result"
    },
    {
     "data": {
      "image/png": "[encoded data removed]",
      "text/plain": [
       "<Figure size 1440x720 with 1 Axes>"
      ]
     },
     "execution_count": 83,
     "metadata": {
      "image/png": {
       "height": 281,
       "width": 373
      }
     },
     "output_type": "execute_result"
    }
   ],
   "source": [
    "prediction = np.asarray(prediction)\n",
    "\n",
    "plt.figure(2)\n",
    "plt.figure(figsize=(20,10))\n",
    "plt.subplot(2,3,1)\n",
    "plt.ylim([0,0.5])\n",
    "print(train.index[:,:,0].shape)\n",
    "print(prediction[:,0].shape)\n",
    "print(trainer.label[:,0].shape)\n",
    "\n",
    "plt.plot(trainer.index[:,:,0],prediction[:,0],'r',trainer.index[:,:,0],trainer.label[:,0],'b')\n",
    "plt.subplot(2,3,2)\n",
    "plt.ylim([0,0.5])\n",
    "plt.plot(testT[:,:,0],prediction[:,1],'r',testT[:,:,0],testY[:,1],'b')\n",
    "plt.subplot(2,3,3)\n",
    "plt.ylim([0,0.5])\n",
    "plt.plot(testT[:,:,0],prediction[:,2],'r',testT[:,:,0],testY[:,2],'b')\n",
    "plt.subplot(2,3,4)\n",
    "plt.ylim([0,0.5])\n",
    "plt.plot(testT[:,:,0],prediction[:,3],'r',testT[:,:,0],testY[:,3],'b')\n",
    "plt.subplot(2,3,5)\n",
    "plt.ylim([0,0.5])\n",
    "plt.plot(testT[:,:,0],prediction[:,4],'r',testT[:,:,0],testY[:,4],'b')\n",
    "plt.subplot(2,3,6)\n",
    "plt.ylim([0,0.5])\n",
    "plt.plot(testT[:,:,0],prediction[:,5],'r',testT[:,:,0],testY[:,5],'b')"
   ]
  },
  {
   "cell_type": "code",
   "execution_count": 0,
   "metadata": {
    "collapsed": false
   },
   "outputs": [
   ],
   "source": [
   ]
  }
 ],
 "metadata": {
  "kernelspec": {
   "display_name": "Python 3 (system-wide)",
   "language": "python",
   "metadata": {
    "cocalc": {
     "description": "Python 3 programming language",
     "priority": 100,
     "url": "https://www.python.org/"
    }
   },
   "name": "python3"
  },
  "language_info": {
   "codemirror_mode": {
    "name": "ipython",
    "version": 3
   },
   "file_extension": ".py",
   "mimetype": "text/x-python",
   "name": "python",
   "nbconvert_exporter": "python",
   "pygments_lexer": "ipython3",
   "version": "3.6.8"
  }
 },
 "nbformat": 4,
 "nbformat_minor": 0
}